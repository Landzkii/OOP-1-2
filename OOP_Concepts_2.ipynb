{
  "nbformat": 4,
  "nbformat_minor": 0,
  "metadata": {
    "colab": {
      "name": "OOP Concepts 2.ipynb",
      "provenance": [],
      "collapsed_sections": [],
      "authorship_tag": "ABX9TyOBqNciKzlxjM7UnKFyDRsP",
      "include_colab_link": true
    },
    "kernelspec": {
      "name": "python3",
      "display_name": "Python 3"
    },
    "language_info": {
      "name": "python"
    }
  },
  "cells": [
    {
      "cell_type": "markdown",
      "metadata": {
        "id": "view-in-github",
        "colab_type": "text"
      },
      "source": [
        "<a href=\"https://colab.research.google.com/github/Landzkii/OOP-1-2/blob/main/OOP_Concepts_2.ipynb\" target=\"_parent\"><img src=\"https://colab.research.google.com/assets/colab-badge.svg\" alt=\"Open In Colab\"/></a>"
      ]
    },
    {
      "cell_type": "markdown",
      "source": [
        "Classes with Multiple Objects"
      ],
      "metadata": {
        "id": "e7lQ5-oXVOPe"
      }
    },
    {
      "cell_type": "code",
      "source": [
        "class Birds:\n",
        "  def __init__(self,bird_name):\n",
        "    self.bird_name=bird_name\n",
        "\n",
        "  def flying_birds(self):\n",
        "    print(f\"{self.bird_name} flies above the sky\")\n",
        "\n",
        "  def non_flying_birds(self):\n",
        "    print(f\"{self.bird_name} is the national bird of the Philippines\")\n",
        "\n",
        "vulture = Birds(\"Griffon Vulture\")\n",
        "crane = Birds(\"Common Crane\")\n",
        "emu = Birds(\"Emu\")\n",
        "\n",
        "vulture.flying_birds()\n",
        "crane.flying_birds()\n",
        "emu.non_flying_birds()\n"
      ],
      "metadata": {
        "colab": {
          "base_uri": "https://localhost:8080/"
        },
        "id": "2U8MrdwFVdIp",
        "outputId": "2c070f47-421e-4a78-ecee-a67cb02daf57"
      },
      "execution_count": null,
      "outputs": [
        {
          "output_type": "stream",
          "name": "stdout",
          "text": [
            "Griffon Vulture flies above the sky\n",
            "Common Crane flies above the sky\n",
            "Emu is the national bird of the Philippines\n"
          ]
        }
      ]
    },
    {
      "cell_type": "markdown",
      "source": [
        "Encapsulation using mangling with double underscores"
      ],
      "metadata": {
        "id": "l042jm2GXV3e"
      }
    },
    {
      "cell_type": "code",
      "source": [
        "class foo:\n",
        "  def __init__(self,a,b):\n",
        "    self.__a=a\n",
        "    self.__b=b\n",
        "  def add(self):\n",
        "    return self.__a+self.__b #The attributes are private\n",
        "number = foo(3,4)\n",
        "number.add()\n",
        "\n",
        "number.a=7\n",
        "number.add()"
      ],
      "metadata": {
        "colab": {
          "base_uri": "https://localhost:8080/"
        },
        "id": "luwaLQ_PXXQA",
        "outputId": "7fe043fd-079c-45f5-94f8-288b7537bad3"
      },
      "execution_count": null,
      "outputs": [
        {
          "output_type": "execute_result",
          "data": {
            "text/plain": [
              "7"
            ]
          },
          "metadata": {},
          "execution_count": 8
        }
      ]
    },
    {
      "cell_type": "markdown",
      "source": [
        "Encapsulation with Private Attributes"
      ],
      "metadata": {
        "id": "pLNJKIxTZplj"
      }
    },
    {
      "cell_type": "code",
      "source": [
        "class Counter:\n",
        "  def __init__(self):\n",
        "    self.current=0\n",
        "\n",
        "  def increment(self):\n",
        "    self.current+=1\n",
        "  def value(self):\n",
        "    return self.current\n",
        "  def reset(self):\n",
        "    self.current=0\n",
        "\n",
        "num=Counter()\n",
        "num.increment() #counter=counter+1\n",
        "num.increment()\n",
        "num.increment()\n",
        "\n",
        "num.value()"
      ],
      "metadata": {
        "colab": {
          "base_uri": "https://localhost:8080/"
        },
        "id": "TRSBp4A3Zne5",
        "outputId": "c6202816-e17c-4860-8edf-50bf47ac5c80"
      },
      "execution_count": null,
      "outputs": [
        {
          "output_type": "execute_result",
          "data": {
            "text/plain": [
              "3"
            ]
          },
          "metadata": {},
          "execution_count": 15
        }
      ]
    },
    {
      "cell_type": "markdown",
      "source": [
        "Inheritance"
      ],
      "metadata": {
        "id": "QXR6LPFGdJUg"
      }
    },
    {
      "cell_type": "code",
      "source": [
        "class Person:\n",
        "  def __init__(self,firstname,surname):\n",
        "    self.firstname=firstname\n",
        "    self.surname=surname\n",
        "\n",
        "  def printname(self):\n",
        "    print(self.firstname,self.surname)\n",
        "\n",
        "person = Person(\"Ana\", \"Santos\")\n",
        "person.printname()\n",
        "\n",
        "class Teacher(Person):\n",
        "  pass\n",
        "\n",
        "person2=Teacher(\"Maria\", \"Sayo\")\n",
        "person2.printname()\n",
        "\n",
        "class Student(Person):\n",
        "  pass\n",
        "\n",
        "person3=Student(\"Jhoriz\", \"Aquino\")\n",
        "person3.printname()"
      ],
      "metadata": {
        "colab": {
          "base_uri": "https://localhost:8080/"
        },
        "id": "8kJV7MbEczRT",
        "outputId": "507dbc13-997d-4530-8fff-52fc6a3a7bb3"
      },
      "execution_count": null,
      "outputs": [
        {
          "output_type": "stream",
          "name": "stdout",
          "text": [
            "Ana Santos\n",
            "Maria Sayo\n",
            "Jhoriz Aquino\n"
          ]
        }
      ]
    },
    {
      "cell_type": "code",
      "source": [
        "class RegularPolygon:\n",
        "  def __init__(self,side):\n",
        "    self.side = side\n",
        "\n",
        "class Square(RegularPolygon):\n",
        "  def area(self):\n",
        "    return self.side * self.side\n",
        "\n",
        "class EquilateralTriangle(RegularPolygon):\n",
        "  def area(self):\n",
        "    return self.side * self.side * 0.433\n",
        "\n",
        "object = Square(4)\n",
        "print(object.area())\n",
        "\n",
        "object2 = EquilateralTriangle(3)\n",
        "print(object2.area())"
      ],
      "metadata": {
        "id": "uZkXMT4Th6zp",
        "outputId": "5ee3bc03-b9d9-4cea-ad98-3a8ea16dc254",
        "colab": {
          "base_uri": "https://localhost:8080/"
        }
      },
      "execution_count": null,
      "outputs": [
        {
          "output_type": "stream",
          "name": "stdout",
          "text": [
            "16\n",
            "3.897\n"
          ]
        }
      ]
    },
    {
      "cell_type": "markdown",
      "source": [
        "ACTIVITY 3\n"
      ],
      "metadata": {
        "id": "ZQAUaheVaqvF"
      }
    },
    {
      "cell_type": "code",
      "source": [
        "class Person:\n",
        "  def __init__(self, std, pre, mid, fin):\n",
        "    self.__std = std\n",
        "    self.__pre = pre\n",
        "    self.__mid = mid\n",
        "    self.__fin = fin\n",
        "  \n",
        "  def Grade(self):\n",
        "    return round((self.__pre + self.__mid + self.__fin)/3)\n",
        "\n",
        "class Student1(Person):\n",
        "  pass\n",
        "\n",
        "std1 = str(input(\"Input Name:  \"))\n",
        "prelim1 = float(input(\"Prelim Grade:\"))\n",
        "midterm1 = float(input(\"Midterm Grade:  \"))\n",
        "final1 = float (input(\"Final Grade:  \"))\n",
        "\n",
        "student1 = Person(std1, prelim1, midterm1, final1)\n",
        "\n",
        "print(\n",
        ")\n",
        "\n",
        "class Student2(Person):\n",
        "  pass\n",
        "\n",
        "std2 = str(input(\"Input Name:  \"))\n",
        "prelim2 = float(input(\"Prelim Grade:\"))\n",
        "midterm2 = float(input(\"Midterm Grade:  \"))\n",
        "final2 = float (input(\"Final Grade:  \"))\n",
        "\n",
        "student2 = Person(std2, prelim2, midterm2, final2)\n",
        "\n",
        "print(\n",
        ")\n",
        "\n",
        "class Student3(Person):\n",
        "  pass\n",
        "\n",
        "std3 = str(input(\"Input Name:  \"))\n",
        "prelim3 = float(input(\"Prelim Grade:\"))\n",
        "midterm3 = float(input(\"Midterm Grade:  \"))\n",
        "final3 = float (input(\"Final Grade:  \"))\n",
        "\n",
        "student3 = Person(std3, prelim3, midterm3, final3)\n",
        "\n",
        "print(\n",
        "    \n",
        ")\n",
        "\n",
        "std_name = str(input(\"Enter Name:\"))\n",
        "\n",
        "if std_name == std1:\n",
        "  print(\"Your General Weighted Average (GWA) is: \",student1.Grade())\n",
        "\n",
        "else:\n",
        "  if std_name == std2:\n",
        "    print(\"Your General Weighted Average (GWA) is: \",student2.Grade())\n",
        "    \n",
        "  else:\n",
        "    if std_name == std3:\n",
        "      print(\"Your General Weighted Average (GWA) is: \",student3.Grade())\n",
        "\n",
        "    else:\n",
        "      print(\"The Student is not on the List\")"
      ],
      "metadata": {
        "colab": {
          "base_uri": "https://localhost:8080/"
        },
        "id": "d6SPKrl9kwmx",
        "outputId": "71edb868-240e-4d6d-f8e8-123244b8ce8c"
      },
      "execution_count": null,
      "outputs": [
        {
          "output_type": "stream",
          "name": "stdout",
          "text": [
            "Input Name:  mat\n",
            "Prelim Grade:69\n",
            "Midterm Grade:  69\n",
            "Final Grade:  69\n",
            "\n",
            "Input Name:  colleen\n",
            "Prelim Grade:100\n",
            "Midterm Grade:  100\n",
            "Final Grade:  99\n",
            "\n",
            "Input Name:  ernest\n",
            "Prelim Grade:90\n",
            "Midterm Grade:  95\n",
            "Final Grade:  91\n",
            "\n",
            "Enter Name:mat\n",
            "Your General Weighted Average (GWA) is:  69\n"
          ]
        }
      ]
    }
  ]
}