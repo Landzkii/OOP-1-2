{
  "nbformat": 4,
  "nbformat_minor": 0,
  "metadata": {
    "colab": {
      "name": "GUI Application.ipynb",
      "provenance": [],
      "authorship_tag": "ABX9TyPUnDhw4ab4wiWL1TS9+W5t",
      "include_colab_link": true
    },
    "kernelspec": {
      "name": "python3",
      "display_name": "Python 3"
    },
    "language_info": {
      "name": "python"
    }
  },
  "cells": [
    {
      "cell_type": "markdown",
      "metadata": {
        "id": "view-in-github",
        "colab_type": "text"
      },
      "source": [
        "<a href=\"https://colab.research.google.com/github/Landzkii/OOP-1-2/blob/main/GUI_Application.ipynb\" target=\"_parent\"><img src=\"https://colab.research.google.com/assets/colab-badge.svg\" alt=\"Open In Colab\"/></a>"
      ]
    },
    {
      "cell_type": "code",
      "source": [
        "#@title Students Grade in OOP\n",
        "\n",
        "Student_Name1 = \"Enter the student name\" #@param (type: \"string\")\n",
        "prelim =  100 #@param (type: \"number\")\n",
        "midterm =  100 #@param (type: \"number\")\n",
        "final =  100 #@param (type: \"number\")\n",
        "semestral_grade = (prelim+midterm+final)/3\n",
        "\n",
        "print(\"The prelim grade of student 1 is \"+\"\"+str(prelim))\n",
        "print(\"The midterm grade of student 1 is \"+\"\"+str(midterm))\n",
        "print(\"The final grade of student 1 is \"+\"\"+str(final))\n",
        "print(\"The semestral grade of student 1 is \"+\"\"+str(semestral_grade))\n",
        "\n",
        "\n",
        "#@title Gender\n",
        "Gender = \"Male\" #@param [\"Male\", \"Female\"]\n",
        "print(\"His/her gender is \"+Gender)\n",
        "\n",
        "Birthdate = '2012-04-07' #@param (type: \"date\")"
      ],
      "metadata": {
        "colab": {
          "base_uri": "https://localhost:8080/"
        },
        "id": "9Qn53hMku_bc",
        "outputId": "87faf176-3d85-4b47-f855-f7e0b0e18231"
      },
      "execution_count": 15,
      "outputs": [
        {
          "output_type": "stream",
          "name": "stdout",
          "text": [
            "The prelim grade of student 1 is 100\n",
            "The midterm grade of student 1 is 100\n",
            "The final grade of student 1 is 100\n",
            "The semestral grade of student 1 is 100.0\n",
            "His/her gender is Male\n"
          ]
        }
      ]
    }
  ]
}