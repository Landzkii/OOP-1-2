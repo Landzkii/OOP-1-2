{
  "nbformat": 4,
  "nbformat_minor": 0,
  "metadata": {
    "colab": {
      "name": "Activity 2.ipynb",
      "provenance": [],
      "collapsed_sections": [],
      "authorship_tag": "ABX9TyPU2E221zYuY0z8JP0YupOP",
      "include_colab_link": true
    },
    "kernelspec": {
      "name": "python3",
      "display_name": "Python 3"
    },
    "language_info": {
      "name": "python"
    }
  },
  "cells": [
    {
      "cell_type": "markdown",
      "metadata": {
        "id": "view-in-github",
        "colab_type": "text"
      },
      "source": [
        "<a href=\"https://colab.research.google.com/github/Landzkii/OOP-1-2/blob/main/Activity_2.ipynb\" target=\"_parent\"><img src=\"https://colab.research.google.com/assets/colab-badge.svg\" alt=\"Open In Colab\"/></a>"
      ]
    },
    {
      "cell_type": "markdown",
      "source": [
        "Write a python program that converts temperature Celsius to Fahrenheit"
      ],
      "metadata": {
        "id": "fG99O4LKXKDN"
      }
    },
    {
      "cell_type": "code",
      "source": [
        "class Temperature:\n",
        "  def __init__(self,Celsius):\n",
        "    self.Celsius = Celsius\n",
        "  \n",
        "  def Temp(self):\n",
        "    result=float((1.8*self.Celsius)+32)\n",
        "    return result\n",
        "\n",
        "input_temp = float(input(\"Input temperature in Celsius: \"))\n",
        "temp1 = Temperature(input_temp)\n",
        "print(round(temp1.Temp(),2))\n",
        "\n"
      ],
      "metadata": {
        "colab": {
          "base_uri": "https://localhost:8080/"
        },
        "id": "ygWMjk7cZwlP",
        "outputId": "d05be36f-fd17-4e12-cf7c-014f857fa1cd"
      },
      "execution_count": null,
      "outputs": [
        {
          "output_type": "stream",
          "name": "stdout",
          "text": [
            "Input temperature in Celsius: 30\n",
            "86.0\n"
          ]
        }
      ]
    },
    {
      "cell_type": "markdown",
      "source": [
        "Computes area and perimeter of a circle"
      ],
      "metadata": {
        "id": "HaZszJ5EpVRO"
      }
    },
    {
      "cell_type": "code",
      "source": [
        "import math\n",
        "class Circle:\n",
        "  def __init__(self,radius):\n",
        "    self.radius=radius\n",
        "\n",
        "  def Area(self):\n",
        "    return ((math.pi*(self.radius*self.radius)))\n",
        "\n",
        "  def Perimeter(self):\n",
        "    return (2*math.pi*self.radius)\n",
        "\n",
        "input_radius=float(input(\"Input the radius of the circle: \"))\n",
        "radius1=Circle(input_radius)\n",
        "print(\"The area of the circle with the radius of \", input_radius, \"is \", round(radius1.Area(),2))\n",
        "print(\"The perimeter of the circle with the radius of \", input_radius, \"is \", round(radius1.Perimeter(),2))"
      ],
      "metadata": {
        "id": "pZFBksHwajPK",
        "colab": {
          "base_uri": "https://localhost:8080/"
        },
        "outputId": "86e22a13-63d2-4bdd-cc4b-126a09e5b978"
      },
      "execution_count": null,
      "outputs": [
        {
          "output_type": "stream",
          "name": "stdout",
          "text": [
            "Input the radius of the circle: 10\n",
            "The area of the circle with the radius of  10.0 is  314.16\n",
            "The perimeter of the circle with the radius of  10.0 is  62.83\n"
          ]
        }
      ]
    }
  ]
}