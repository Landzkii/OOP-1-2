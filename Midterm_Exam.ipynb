{
  "nbformat": 4,
  "nbformat_minor": 0,
  "metadata": {
    "colab": {
      "name": "Midterm Exam.ipynb",
      "provenance": [],
      "authorship_tag": "ABX9TyNayRDAaKBG6COV37jbsbuQ",
      "include_colab_link": true
    },
    "kernelspec": {
      "name": "python3",
      "display_name": "Python 3"
    },
    "language_info": {
      "name": "python"
    }
  },
  "cells": [
    {
      "cell_type": "markdown",
      "metadata": {
        "id": "view-in-github",
        "colab_type": "text"
      },
      "source": [
        "<a href=\"https://colab.research.google.com/github/Landzkii/OOP-1-2/blob/main/Midterm_Exam.ipynb\" target=\"_parent\"><img src=\"https://colab.research.google.com/assets/colab-badge.svg\" alt=\"Open In Colab\"/></a>"
      ]
    },
    {
      "cell_type": "markdown",
      "source": [
        "Midterm Exam #1"
      ],
      "metadata": {
        "id": "hSQtvMWqkO99"
      }
    },
    {
      "cell_type": "code",
      "source": [
        "def main():\n",
        "  class TemperatureConversion:\n",
        "    def __init__(self, temp=1):\n",
        "      self._temp = temp\n",
        "\n",
        "  class CelsiusToFahrenheit(TemperatureConversion):\n",
        "    def conversion(self):\n",
        "      return (self._temp * 9) / 5 + 32\n",
        "\n",
        "  class CelsiusToKelvin(TemperatureConversion):\n",
        "    def conversion(self):\n",
        "      return self._temp + 273.15\n",
        "\n",
        "  tempInCelsius = float(input(\"Enter the temperature in Celsius: \"))\n",
        "  convert = CelsiusToKelvin(tempInCelsius)\n",
        "  print(str(convert.conversion()) + \" Kelvin\")\n",
        "  convert = CelsiusToFahrenheit(tempInCelsius)\n",
        "  print(str(convert.conversion()) + \" Fahrenheit\")\n",
        "\n",
        "  class FahrenheitToCelsius(TemperatureConversion):\n",
        "    def conversion(self):\n",
        "      return (self._temp - 32) / 1.8\n",
        "\n",
        "  class KelvinToCelsius(TemperatureConversion):\n",
        "    def conversion(self):\n",
        "      return self._temp - 273.15\n",
        "  \n",
        "  tempInFahrenheit = float(input(\"Enter the temperature in Fahrenheit: \"))\n",
        "  convert = FahrenheitToCelsius(tempInFahrenheit)\n",
        "  print(str(convert.conversion()) + \" Celsius\")\n",
        "  tempInKelvin = float(input(\"Enter the temperature in Kelvin: \"))\n",
        "  convert = KelvinToCelsius(tempInKelvin)\n",
        "  print(str(convert.conversion()) + \" Celsius\")\n",
        "\n",
        "main()"
      ],
      "metadata": {
        "colab": {
          "base_uri": "https://localhost:8080/"
        },
        "id": "ALTjI2-hkfLm",
        "outputId": "13bd8efa-fc19-4f13-df5c-d146fbe87c2c"
      },
      "execution_count": 18,
      "outputs": [
        {
          "output_type": "stream",
          "name": "stdout",
          "text": [
            "Enter the temperature in Celsius: 38\n",
            "311.15 Kelvin\n",
            "100.4 Fahrenheit\n",
            "Enter the temperature in Fahrenheit: 100.4\n",
            "38.0 Celsius\n",
            "Enter the temperature in Kelvin: 500\n",
            "226.85000000000002 Celsius\n"
          ]
        }
      ]
    }
  ]
}