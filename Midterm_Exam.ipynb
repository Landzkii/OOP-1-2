{
  "nbformat": 4,
  "nbformat_minor": 0,
  "metadata": {
    "colab": {
      "name": "Midterm Exam.ipynb",
      "provenance": [],
      "authorship_tag": "ABX9TyM4agDRoEjARIEtdZFHAWVj",
      "include_colab_link": true
    },
    "kernelspec": {
      "name": "python3",
      "display_name": "Python 3"
    },
    "language_info": {
      "name": "python"
    }
  },
  "cells": [
    {
      "cell_type": "markdown",
      "metadata": {
        "id": "view-in-github",
        "colab_type": "text"
      },
      "source": [
        "<a href=\"https://colab.research.google.com/github/Landzkii/OOP-1-2/blob/main/Midterm_Exam.ipynb\" target=\"_parent\"><img src=\"https://colab.research.google.com/assets/colab-badge.svg\" alt=\"Open In Colab\"/></a>"
      ]
    },
    {
      "cell_type": "markdown",
      "source": [
        "Midterm Exam #1"
      ],
      "metadata": {
        "id": "hSQtvMWqkO99"
      }
    },
    {
      "cell_type": "code",
      "source": [
        "def main():\n",
        "    class TemperatureConversion:\n",
        "      def __init__(self, temp=1):\n",
        "        self._temp = temp\n",
        "    class CelsiusToFahrenheit(TemperatureConversion):\n",
        "      def conversion(self):\n",
        "        return (self._temp * 9) / 5 + 32\n",
        "    class CelsiusToKelvin(TemperatureConversion):\n",
        "      def conversion(self):\n",
        "        return self._temp + 273.15\n",
        "\n",
        "    tempInCelsius = float(input(\"Enter the temperature in Celsius: \"))\n",
        "    convert = CelsiusToKelvin(tempInCelsius)\n",
        "    print(str(convert.conversion()) + \" Kelvin \")\n",
        "    convert = CelsiusToFahrenheit(tempInCelsius)\n",
        "    print(str(convert.conversion()) + \" Fahrenheit\")\n",
        "\n",
        "    class FahrenheitToCelsius(TemperatureConversion):\n",
        "      def conversion(self):\n",
        "        return (self._temp - 32) / 1.8\n",
        "    class KelvinToCelsius(TemperatureConversion):\n",
        "      def conversion(self):\n",
        "        return self._temp - 273.15\n",
        "\n",
        "    print('\\n')\n",
        "    tempInFahrenheit = float(input(\"Enter the temperature in Fahrenheit: \"))\n",
        "    convert = FahrenheitToCelsius(tempInFahrenheit)\n",
        "    print(str(round(convert.conversion(),2)) + \" Celsius \")\n",
        "    print('\\n')\n",
        "    tempInKelvin = float(input(\"Enter the temperature in Kelvin: \"))\n",
        "    convert = KelvinToCelsius(tempInKelvin)\n",
        "    print(str(round(convert.conversion(),2)) + \" Celsius \")\n",
        "\n",
        "main()\n"
      ],
      "metadata": {
        "colab": {
          "base_uri": "https://localhost:8080/"
        },
        "id": "ALTjI2-hkfLm",
        "outputId": "fb8ea05c-b509-4e01-bfad-745b3edf91bb"
      },
      "execution_count": 24,
      "outputs": [
        {
          "output_type": "stream",
          "name": "stdout",
          "text": [
            "Enter the temperature in Celsius: 38\n",
            "311.15 Kelvin \n",
            "100.4 Fahrenheit\n",
            "\n",
            "\n",
            "Enter the temperature in Fahrenheit: 100\n",
            "37.78 Celsius \n",
            "\n",
            "\n",
            "Enter the temperature in Kelvin: 500\n",
            "226.85 Celsius \n"
          ]
        }
      ]
    }
  ]
}