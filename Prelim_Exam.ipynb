{
  "nbformat": 4,
  "nbformat_minor": 0,
  "metadata": {
    "colab": {
      "name": "Prelim Exam.ipynb",
      "provenance": [],
      "authorship_tag": "ABX9TyNYzo5Oe2tueIScNeP3gh3E",
      "include_colab_link": true
    },
    "kernelspec": {
      "name": "python3",
      "display_name": "Python 3"
    },
    "language_info": {
      "name": "python"
    }
  },
  "cells": [
    {
      "cell_type": "markdown",
      "metadata": {
        "id": "view-in-github",
        "colab_type": "text"
      },
      "source": [
        "<a href=\"https://colab.research.google.com/github/Landzkii/OOP-1-2/blob/main/Prelim_Exam.ipynb\" target=\"_parent\"><img src=\"https://colab.research.google.com/assets/colab-badge.svg\" alt=\"Open In Colab\"/></a>"
      ]
    },
    {
      "cell_type": "code",
      "execution_count": 17,
      "metadata": {
        "colab": {
          "base_uri": "https://localhost:8080/"
        },
        "id": "n53TwQ01l76w",
        "outputId": "eeb43683-c8ed-4098-86c3-51e4f47dedd4"
      },
      "outputs": [
        {
          "output_type": "stream",
          "name": "stdout",
          "text": [
            "\n",
            " My name is Landon Sarmiento Lorica and I am 19 years old \n",
            " I am currently studying in Cavite State University Main Campus taking Bachelor of Science in Computer Engineering with a Student Number of 202106458\n"
          ]
        }
      ],
      "source": [
        "class Student:\n",
        "  def __init__(self, Name, Student_No, Age, School, Course):  \n",
        "    self.Name = Name  \n",
        "    self.Student_No = Student_No            \n",
        "    self.Age = Age\n",
        "    self.School = School\n",
        "    self.Course = Course\n",
        "\n",
        "  def Info(self):\n",
        "    print(\"\\n\", \"My name is\", self.Name, \"and I am\", self.Age, \"\\n\",\n",
        "    \"I am currently studying in\", self.School, \"taking\", self.Course, \"with a Student Number of\", self.Student_No)\n",
        "\n",
        "Myself = Student(\"Landon Sarmiento Lorica\", \"202106458\", \"19 years old\", \"Cavite State University Main Campus\", \"Bachelor of Science in Computer Engineering\")\n",
        "Myself.Info()\n",
        "\n"
      ]
    }
  ]
}